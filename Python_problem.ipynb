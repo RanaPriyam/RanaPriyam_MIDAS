{
 "cells": [
  {
   "cell_type": "code",
   "execution_count": 62,
   "metadata": {},
   "outputs": [],
   "source": [
    "import tweepy\n",
    "import pandas as pd"
   ]
  },
  {
   "cell_type": "code",
   "execution_count": 63,
   "metadata": {},
   "outputs": [],
   "source": [
    "consumer_key = \"XXXXXXXXXXXXXXXXXXXXXXXXXXXXXXXX\" \n",
    "consumer_secret = \"XXXXXXXXXXXXXXXXXXXXXXXXXXXXXXXX\"\n",
    "access_key = \"XXXXXXXXXXXXXXXXXXXXXXXXXXXXXXXX\"\n",
    "access_secret = \"XXXXXXXXXXXXXXXXXXXXXXXXXXXXXXXX\"\n",
    "  "
   ]
  },
  {
   "cell_type": "code",
   "execution_count": 64,
   "metadata": {},
   "outputs": [],
   "source": [
    "# Function to extract tweets \n",
    "def get_tweets(username): \n",
    "          \n",
    "        # Authorization to consumer key and consumer secret \n",
    "        auth = tweepy.OAuthHandler(consumer_key, consumer_secret) \n",
    "  \n",
    "        # Access to user's access key and access secret \n",
    "        auth.set_access_token(access_key, access_secret) \n",
    "  \n",
    "        # Calling api \n",
    "        api = tweepy.API(auth) \n",
    "  \n",
    "        # 3200 tweets to be extracted \n",
    "        number_of_tweets=3200\n",
    "        tweets = api.user_timeline(screen_name=username) \n",
    "        print(type(tweets))\n",
    "        #print(tweets[3])\n",
    "        \n",
    "        # create array of tweet information: text,data&time, no of favorites, no of retweets\n",
    "        data=[]  \n",
    "        data= [[tweet.text,tweet.created_at,tweet.favorite_count,tweet.retweet_count]for tweet in tweets] \n",
    "        print(len(data))\n",
    "        \n",
    "        #Converting the array into a dataframe\n",
    "        df = pd.DataFrame(data)\n",
    "        df.columns=[\"text\",\"data&time\",\"no of favorites\",\"no of retweets\"]\n",
    "        print(df.shape)\n",
    "        print(df)"
   ]
  },
  {
   "cell_type": "code",
   "execution_count": 65,
   "metadata": {
    "scrolled": false
   },
   "outputs": [
    {
     "name": "stdout",
     "output_type": "stream",
     "text": [
      "<class 'tweepy.models.ResultSet'>\n",
      "20\n",
      "(20, 4)\n",
      "                                                 text           data&time  \\\n",
      "0   Thanks to all shortlisted candidates for submi... 2019-03-26 18:12:27   \n",
      "1   @IEEEBigMM19 @ACMMM19 and 6 days left for work... 2019-03-26 05:54:49   \n",
      "2   RT @IEEEBigMM19: Hurry Up!\\n6 Days left for Ab... 2019-03-26 05:50:10   \n",
      "3   Congratulations @midasIIITD students Simra Sha... 2019-03-25 13:01:57   \n",
      "4   The last date for submitting a solution for th... 2019-03-24 18:44:01   \n",
      "5   RT @IIITDelhi: @IIITDelhi invites application ... 2019-03-24 18:26:02   \n",
      "6   One more week is left to submit the workshop p... 2019-03-24 11:34:27   \n",
      "7   RT @IEEEBigMM19: We are honored to have Dr. Ch... 2019-03-24 06:23:37   \n",
      "8   RT @IEEEBigMM19: Distinguished researchers Dr.... 2019-03-24 06:23:14   \n",
      "9   @IEEEBigMM19 is also available on Facebook now... 2019-03-20 08:19:24   \n",
      "10  RT @IEEEBigMM19: BigMM 2019 : IEEE BigMM 2019 ... 2019-03-20 02:40:07   \n",
      "11  BigMM 2019 : IEEE BigMM 2019 – Call for Worksh... 2019-03-18 02:27:47   \n",
      "12  Congratulations @midasIIITD team, Rohan, Prady... 2019-03-17 14:22:04   \n",
      "13  We have emailed the task details to all shortl... 2019-03-16 14:06:56   \n",
      "14  IEEE BigMM 2019 - Call for Workshop Proposals.... 2019-03-16 09:20:29   \n",
      "15  Congratulations! Arijit, Ramit, @debanjanbhucs... 2019-03-16 09:14:58   \n",
      "16  We will be releasing a very interesting task t... 2019-03-16 05:13:14   \n",
      "17  RT @hcdiiitd: Last day to register for #Portfo... 2019-03-13 17:09:44   \n",
      "18  @ACMMM19 @sigmm @TheOfficialACM @acmmmsys @ACM... 2019-03-13 04:11:24   \n",
      "19  RT @ACMMM19: The paper deadline is approaching... 2019-03-13 04:06:04   \n",
      "\n",
      "    no of favorites  no of retweets  \n",
      "0                 0               0  \n",
      "1                 2               0  \n",
      "2                 0               3  \n",
      "3                16               1  \n",
      "4                 8               3  \n",
      "5                 0               4  \n",
      "6                 4               0  \n",
      "7                 0               5  \n",
      "8                 0               3  \n",
      "9                 1               1  \n",
      "10                0               5  \n",
      "11                6               3  \n",
      "12               15               4  \n",
      "13                7               0  \n",
      "14                2               1  \n",
      "15                7               2  \n",
      "16                7               2  \n",
      "17                0               2  \n",
      "18                1               0  \n",
      "19                0              13  \n"
     ]
    }
   ],
   "source": [
    "# Driver code \n",
    "if __name__ == '__main__': \n",
    "    get_tweets(\"@midasIIITD\") "
   ]
  }
 ],
 "metadata": {
  "kernelspec": {
   "display_name": "Python 3",
   "language": "python",
   "name": "python3"
  },
  "language_info": {
   "codemirror_mode": {
    "name": "ipython",
    "version": 3
   },
   "file_extension": ".py",
   "mimetype": "text/x-python",
   "name": "python",
   "nbconvert_exporter": "python",
   "pygments_lexer": "ipython3",
   "version": "3.6.5"
  }
 },
 "nbformat": 4,
 "nbformat_minor": 2
}
